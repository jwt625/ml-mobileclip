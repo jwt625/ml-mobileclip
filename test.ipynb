{
 "cells": [
  {
   "cell_type": "code",
   "execution_count": 5,
   "metadata": {},
   "outputs": [
    {
     "name": "stderr",
     "output_type": "stream",
     "text": [
      "/Users/wentaojiang/Documents/GitHub/ml-mobileclip/clipenv/lib/python3.11/site-packages/tqdm/auto.py:21: TqdmWarning: IProgress not found. Please update jupyter and ipywidgets. See https://ipywidgets.readthedocs.io/en/stable/user_install.html\n",
      "  from .autonotebook import tqdm as notebook_tqdm\n",
      "/Users/wentaojiang/Documents/GitHub/ml-mobileclip/clipenv/lib/python3.11/site-packages/timm/models/layers/__init__.py:48: FutureWarning: Importing from timm.models.layers is deprecated, please import via timm.layers\n",
      "  warnings.warn(f\"Importing from {__name__} is deprecated, please import via timm.layers\", FutureWarning)\n",
      "/Users/wentaojiang/Documents/GitHub/ml-mobileclip/mobileclip/__init__.py:75: FutureWarning: You are using `torch.load` with `weights_only=False` (the current default value), which uses the default pickle module implicitly. It is possible to construct malicious pickle data which will execute arbitrary code during unpickling (See https://github.com/pytorch/pytorch/blob/main/SECURITY.md#untrusted-models for more details). In a future release, the default value for `weights_only` will be flipped to `True`. This limits the functions that could be executed during unpickling. Arbitrary objects will no longer be allowed to be loaded via this mode unless they are explicitly allowlisted by the user via `torch.serialization.add_safe_globals`. We recommend you start setting `weights_only=True` for any use case where you don't have full control of the loaded file. Please open an issue on GitHub for any issues related to this experimental feature.\n",
      "  chkpt = torch.load(pretrained)\n"
     ]
    }
   ],
   "source": [
    "\n",
    "import torch\n",
    "from PIL import Image\n",
    "import mobileclip\n",
    "\n",
    "model, _, preprocess = mobileclip.create_model_and_transforms('mobileclip_s0',\n",
    "        pretrained='./checkpoints/mobileclip_s0.pt')\n",
    "tokenizer = mobileclip.get_tokenizer('mobileclip_s0')\n",
    "\n"
   ]
  },
  {
   "cell_type": "code",
   "execution_count": 6,
   "metadata": {},
   "outputs": [],
   "source": [
    "\n",
    "import os\n",
    "import numpy as np\n",
    "from PIL import Image\n",
    "import torch\n",
    "import time\n",
    "\n",
    "# %% search\n",
    "from sklearn.metrics.pairwise import cosine_similarity\n"
   ]
  },
  {
   "cell_type": "code",
   "execution_count": 8,
   "metadata": {},
   "outputs": [
    {
     "name": "stdout",
     "output_type": "stream",
     "text": [
      "Filename: _Volumes_Data_photos_20231231_IMG_2348.npz, Similarity: [[0.2208846]]\n",
      "Filename: _Volumes_Data_photos_20230415_IMG_0302.npz, Similarity: [[0.21102469]]\n",
      "Filename: 20160827_IMG_2287.npz, Similarity: [[0.2046359]]\n",
      "Filename: _Volumes_Data_photos_20240702_IMG_3690.npz, Similarity: [[0.20303881]]\n",
      "Filename: 2015-10-20_IMG_9190.npz, Similarity: [[0.19539648]]\n",
      "Filename: _Volumes_Data_photos_SinceUS (20170909 - 20190201)_IMG_0720.npz, Similarity: [[0.19513378]]\n",
      "Filename: 20170322_IMG_4031.npz, Similarity: [[0.19466959]]\n",
      "Filename: _Volumes_Data_photos_SinceUS (20170909 - 20190201)_IMG_0353.npz, Similarity: [[0.19305238]]\n",
      "Filename: 2016-3-18_IMG_9433.npz, Similarity: [[0.19188854]]\n",
      "Filename: _Volumes_Data_photos_20240615_IMG_3640.npz, Similarity: [[0.19119403]]\n",
      "Filename: _Volumes_Data_photos_SinceUS (20170909 - 20190201)_IMG_0316.npz, Similarity: [[0.19020718]]\n",
      "Filename: 20170322_IMG_3966.npz, Similarity: [[0.19017692]]\n",
      "Filename: 2016-6-8_IMG_1281.npz, Similarity: [[0.18918663]]\n",
      "Filename: 20160827_IMG_1281.npz, Similarity: [[0.18918663]]\n",
      "Filename: _Volumes_Data_photos_20240702_IMG_3878.npz, Similarity: [[0.18899995]]\n",
      "Filename: 20170322_IMG_3869.npz, Similarity: [[0.188833]]\n",
      "Filename: 2016-3-18_IMG_9619.npz, Similarity: [[0.18690157]]\n",
      "Filename: 20170322_IMG_4616.npz, Similarity: [[0.18681258]]\n",
      "Filename: _Volumes_Data_photos_20221220_VLJZ5970.npz, Similarity: [[0.18621162]]\n",
      "Filename: 20160827_IMG_2614.npz, Similarity: [[0.1847825]]\n",
      "Filename: 20170322_IMG_4038.npz, Similarity: [[0.18448317]]\n",
      "Filename: 20200610_IMG_3841.npz, Similarity: [[0.18337494]]\n",
      "Filename: 2016-3-18-2_IMG_0024.npz, Similarity: [[0.18314297]]\n",
      "Filename: 2016-6-8_IMG_1128.npz, Similarity: [[0.18308091]]\n",
      "Filename: 2016-3-18_IMG_9689.npz, Similarity: [[0.18299301]]\n",
      "Filename: IMG_4733.npz, Similarity: [[0.18278942]]\n",
      "Filename: IMG_6998.npz, Similarity: [[0.18178311]]\n",
      "Filename: 2016-6-8_IMG_1624.npz, Similarity: [[0.18146858]]\n",
      "Filename: 20160827_IMG_1624.npz, Similarity: [[0.18146858]]\n",
      "Filename: 20191127_IMG_2855.npz, Similarity: [[0.18114585]]\n",
      "Filename: 20160827_IMG_1114.npz, Similarity: [[0.18078767]]\n",
      "Filename: 2016-6-8_IMG_1114.npz, Similarity: [[0.18078767]]\n",
      "Filename: _Volumes_Data_photos_SinceUS (20170909 - 20190201)_IMG_0113.npz, Similarity: [[0.18041247]]\n",
      "Filename: 20160827_IMG_1238.npz, Similarity: [[0.18025482]]\n",
      "Filename: 2016-6-8_IMG_1238.npz, Similarity: [[0.18025482]]\n",
      "Filename: 20200610_IMG_3911.npz, Similarity: [[0.18008068]]\n",
      "Filename: _Volumes_Data_photos_SinceUS (20170909 - 20190201)_IMG_0567.npz, Similarity: [[0.18005745]]\n",
      "Filename: IMG_4869.npz, Similarity: [[0.17994492]]\n",
      "Filename: _Volumes_Data_photos_20220409_IMG_8350.npz, Similarity: [[0.1790412]]\n",
      "Filename: 20191127_IMG_2934.npz, Similarity: [[0.17847867]]\n",
      "Filename: 20170322_IMG_3991.npz, Similarity: [[0.17846997]]\n",
      "Filename: 2016-6-8_IMG_1135.npz, Similarity: [[0.17807758]]\n",
      "Filename: 20160827_IMG_1135.npz, Similarity: [[0.17807758]]\n",
      "Filename: 20170808_IMG_5588.npz, Similarity: [[0.17791727]]\n",
      "Filename: 20160827_IMG_0824.npz, Similarity: [[0.17785229]]\n",
      "Filename: 2016-3-18-2_IMG_0824.npz, Similarity: [[0.17785229]]\n",
      "Filename: 2015-10-20_IMG_9035.npz, Similarity: [[0.17773418]]\n",
      "Filename: 20160827_IMG_2159.npz, Similarity: [[0.17766368]]\n",
      "Filename: _Volumes_Data_photos_pictures_from_chromebox_20221028_Selection_018.npz, Similarity: [[0.17748642]]\n",
      "Filename: 2015-9-22_IMG_8867.npz, Similarity: [[0.17741846]]\n"
     ]
    }
   ],
   "source": [
    "\n",
    "output_dir = \"./embeddings\"  # Directory to save embeddings\n",
    "# query_embedding = model.encode_text(tokenizer(\n",
    "#     [\"a person holding a compound bow\"])).cpu().numpy()\n",
    "# query_embedding = model.encode_text(tokenizer(\n",
    "    # [\"rf cables connecting between shiny gold plates, with a white Olympus microscope next to it on a black cart\"])).detach().cpu().numpy()\n",
    "\n",
    "# query_embedding = model.encode_text(tokenizer(\n",
    "    # [\"Microscope image with a circular outer black region around the peripheral of the image. The image itself is a chip with two probes with sharp tips.\"])).detach().cpu().numpy()\n",
    "\n",
    "# query_embedding = model.encode_text(tokenizer(\n",
    "#     [\"Picture of curves and traces on a oscilloscope / VNA screen, the plot has black background and blue & yellow traces.\"])).detach().cpu().numpy()\n",
    "\n",
    "# query_embedding = model.encode_text(tokenizer(\n",
    "    # [\"Monitor screen showing curves on a white background with light green and red vertical bars.\"])).detach().cpu().numpy()\n",
    "\n",
    "query_embedding = model.encode_text(tokenizer(\n",
    "    [\"EDFA\"])).detach().cpu().numpy()\n",
    "\n",
    "# Load all embeddings and compute similarities\n",
    "similarities = []\n",
    "for filename in os.listdir(output_dir):\n",
    "    if filename.endswith(\".npz\"):\n",
    "        data = np.load(os.path.join(output_dir, filename))\n",
    "        original_embedding = data[\"original_embedding\"]\n",
    "        augmented_embeddings = data[\"augmented_embeddings\"]\n",
    "\n",
    "        # Compute similarity with the original image\n",
    "        sim = cosine_similarity(query_embedding, original_embedding)\n",
    "        similarities.append((filename, sim))\n",
    "\n",
    "        # Compute similarity with augmented images\n",
    "        for aug_emb in augmented_embeddings:\n",
    "            sim = cosine_similarity(query_embedding, aug_emb)\n",
    "            similarities.append((filename, sim))\n",
    "\n",
    "# Sort by similarity\n",
    "similarities.sort(key=lambda x: x[1], reverse=True)\n",
    "\n",
    "# Print top results\n",
    "for filename, sim in similarities[:50]:\n",
    "    print(f\"Filename: {filename}, Similarity: {sim}\")\n",
    "# %%"
   ]
  }
 ],
 "metadata": {
  "kernelspec": {
   "display_name": "clipenv",
   "language": "python",
   "name": "python3"
  },
  "language_info": {
   "codemirror_mode": {
    "name": "ipython",
    "version": 3
   },
   "file_extension": ".py",
   "mimetype": "text/x-python",
   "name": "python",
   "nbconvert_exporter": "python",
   "pygments_lexer": "ipython3",
   "version": "3.11.9"
  }
 },
 "nbformat": 4,
 "nbformat_minor": 2
}
